{
 "cells": [
  {
   "cell_type": "markdown",
   "id": "f0ff5077",
   "metadata": {},
   "source": [
    "# Product Details\n",
    "1. ProductID\n",
    "2. Name of Product\n",
    "3. Price of Product\n",
    "4. Quantity"
   ]
  },
  {
   "cell_type": "code",
   "execution_count": 26,
   "id": "2788cc07",
   "metadata": {},
   "outputs": [],
   "source": [
    "fd = open(\"Inventory.txt\", 'w')\n",
    "\n",
    "fd.close()"
   ]
  },
  {
   "cell_type": "code",
   "execution_count": 32,
   "id": "c4cc713a",
   "metadata": {},
   "outputs": [
    {
     "name": "stdout",
     "output_type": "stream",
     "text": [
      "1,5 Star,5,100\n",
      "2,Milky Bar,5,100\n",
      "3,Cake,300,5\n",
      "4,Candy,1,200\n"
     ]
    }
   ],
   "source": [
    "for i in products:\n",
    "    print(i)"
   ]
  },
  {
   "cell_type": "code",
   "execution_count": 74,
   "id": "67a91919",
   "metadata": {},
   "outputs": [
    {
     "name": "stdout",
     "output_type": "stream",
     "text": [
      "Enter your Name: Rohit\n",
      "Enter your Phone No: 987654321\n",
      "ENter your Mail: cba@gmail.com\n",
      "Enter a product ID: 3\n",
      "Enter a product Quantity: 100\n",
      "Sorry, We're not having enough quantity!\n",
      "We're only having 10 quantity.\n",
      "Would you like to purchase it?\n",
      "Press Y/Ny\n",
      "-----------------------------\n",
      "Product Name  : Cake\n",
      "Price         : 300\n",
      "Quantity      : 10\n",
      "-----------------------------\n",
      "Billing Amount: 3000\n",
      "-----------------------------\n",
      "------------------------\n",
      "Inventory Updated\n"
     ]
    }
   ],
   "source": [
    "# Noting the time of transaction\n",
    "import time\n",
    "\n",
    "# Reading the Inventory\n",
    "fd = open('Inventory.txt','r')\n",
    "products = fd.read().split('\\n')\n",
    "fd.close()\n",
    "\n",
    "# Taking user input\n",
    "ui_username = input(\"Enter your Name: \")\n",
    "ui_phone = input(\"Enter your Phone No: \")\n",
    "ui_mail = input(\"ENter your Mail: \")\n",
    "ui_prod_id = input(\"Enter a product ID: \")\n",
    "ui_prod_qn = input(\"Enter a product Quantity: \")\n",
    "\n",
    "updated_product_lst = []\n",
    "\n",
    "# We're going through each product details\n",
    "for product in products:\n",
    "    \n",
    "    prod_details = product.split(',')\n",
    "    \n",
    "    # Checking if product exists or not\n",
    "    if(prod_details[0] == ui_prod_id):\n",
    "        \n",
    "        # Checking if we're having enough quantity\n",
    "        if(int(ui_prod_qn) <= int(prod_details[3])):\n",
    "\n",
    "            print(\"-----------------------------\")\n",
    "            print(\"Product Name  :\",prod_details[1])\n",
    "            print(\"Price         :\",prod_details[2])\n",
    "            print(\"Quantity      :\",ui_prod_qn)\n",
    "            print(\"-----------------------------\")\n",
    "            print(\"Billing Amount:\", int(ui_prod_qn) * int(prod_details[2]))\n",
    "            print(\"-----------------------------\")\n",
    "\n",
    "            # Updating the inventory List\n",
    "            prod_details[3] = str(int(prod_details[3]) - int(ui_prod_qn))\n",
    "            \n",
    "            # Generating the sales in Sales.txt\n",
    "            fd = open(\"Sales.txt\",'a')\n",
    "            sales_details = ui_username + \",\" + ui_phone + \",\" + ui_mail + \",\" + prod_details[1] + \",\"+ ui_prod_id + \",\" + ui_prod_qn + \",\" + str(int(ui_prod_qn) * int(prod_details[2])) + \",\" + time.ctime() + \"\\n\"\n",
    "            fd.write(sales_details)\n",
    "            fd.close()\n",
    "        \n",
    "        # If we don't have enough quantity\n",
    "        else:\n",
    "            print(\"Sorry, We're not having enough quantity!\")\n",
    "            print(\"We're only having\",prod_details[3],'quantity.')\n",
    "            print(\"Would you like to purchase it?\")\n",
    "            \n",
    "            ch = input(\"Press Y/N\")\n",
    "            \n",
    "            # If you want to purchase with the remaining quantity\n",
    "            if (ch == 'Y' or ch == 'y'):\n",
    "                print(\"-----------------------------\")\n",
    "                print(\"Product Name  :\",prod_details[1])\n",
    "                print(\"Price         :\",prod_details[2])\n",
    "                print(\"Quantity      :\",prod_details[3])\n",
    "                print(\"-----------------------------\")\n",
    "                print(\"Billing Amount:\", int(prod_details[3]) * int(prod_details[2]))\n",
    "                print(\"-----------------------------\")\n",
    "            \n",
    "                \n",
    "                \n",
    "                # Generating the sales in Sales.txt\n",
    "                fd = open(\"Sales.txt\",'a')\n",
    "                sales_details = ui_username + \",\" + ui_phone + \",\" + ui_mail + \",\" + prod_details[1] + \",\"+ ui_prod_id + \",\" + prod_details[3] + \",\" + str(int(prod_details[3]) * int(prod_details[2])) + \",\" + time.ctime() + \"\\n\"\n",
    "                fd.write(sales_details)\n",
    "                fd.close()\n",
    "                \n",
    "                # Updating the inventory List\n",
    "                prod_details[3] = '0'\n",
    "                \n",
    "            else:\n",
    "                print(\"Thanks!\")\n",
    "    \n",
    "    # Updating my inventory list    \n",
    "    updated_product_lst.append(prod_details)    \n",
    "\n",
    "lst = []\n",
    "\n",
    "for i in updated_product_lst:\n",
    "    \n",
    "    prod = i[0] + \",\" + i[1] + \",\" + i[2] + \",\" + i[3]+ '\\n'\n",
    "    lst.append(prod)\n",
    "\n",
    "# removing last \"\\n\" from at the end\n",
    "lst[-1] = lst[-1][:-1]\n",
    "\n",
    "# Updating Inventory File\n",
    "fd = open(\"Inventory.txt\",'w')\n",
    "\n",
    "for i in lst:\n",
    "    fd.write(i)\n",
    "\n",
    "fd.close()\n",
    "\n",
    "print(\"------------------------\")\n",
    "print(\"Inventory Updated\")"
   ]
  },
  {
   "cell_type": "code",
   "execution_count": null,
   "id": "4101f39d",
   "metadata": {},
   "outputs": [],
   "source": []
  }
 ],
 "metadata": {
  "kernelspec": {
   "display_name": "Python 3 (ipykernel)",
   "language": "python",
   "name": "python3"
  },
  "language_info": {
   "codemirror_mode": {
    "name": "ipython",
    "version": 3
   },
   "file_extension": ".py",
   "mimetype": "text/x-python",
   "name": "python",
   "nbconvert_exporter": "python",
   "pygments_lexer": "ipython3",
   "version": "3.11.5"
  }
 },
 "nbformat": 4,
 "nbformat_minor": 5
}
